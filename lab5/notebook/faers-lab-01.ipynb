{
 "cells": [
  {
   "cell_type": "code",
   "execution_count": 8,
   "metadata": {},
   "outputs": [],
   "source": [
    "%defaultDatasource jdbc:h2:mem:db"
   ]
  },
  {
   "cell_type": "code",
   "execution_count": 15,
   "metadata": {},
   "outputs": [
    {
     "ename": "org.h2.jdbc.JdbcSQLException",
     "evalue": " Cannot drop \"DRUGUSE\" because \"INTERACAOMEDICAMENTOS\" depends on it; SQL statement",
     "output_type": "error",
     "text": "org.h2.jdbc.JdbcSQLException: Cannot drop \"DRUGUSE\" because \"INTERACAOMEDICAMENTOS\" depends on it; SQL statement:\nDROP TABLE IF EXISTS DrugUse [90107-197]",
     "traceback": [
      "\u001b[1;31morg.h2.jdbc.JdbcSQLException: Cannot drop \"DRUGUSE\" because \"INTERACAOMEDICAMENTOS\" depends on it; SQL statement:\u001b[0;0m",
      "\u001b[1;31mDROP TABLE IF EXISTS DrugUse [90107-197]\u001b[0;0m"
     ]
    }
   ],
   "source": [
    "DROP TABLE IF EXISTS Drug;\n",
    "DROP TABLE IF EXISTS Pathology;\n",
    "DROP TABLE IF EXISTS DrugUse;\n",
    "DROP TABLE IF EXISTS SideEffect;\n",
    "\n",
    "CREATE TABLE Drug (\n",
    "  code INT NOT NULL,\n",
    "  name VARCHAR(200) NOT NULL,\n",
    "  PRIMARY KEY(code)\n",
    ") AS SELECT\n",
    "    code,\n",
    "    name\n",
    "FROM CSVREAD('../../../data/faers-2017/drug.csv');\n",
    "\n",
    "CREATE TABLE Pathology (\n",
    "  code INT NOT NULL,\n",
    "  name VARCHAR(200) NOT NULL,\n",
    "  PRIMARY KEY(code)\n",
    ") AS SELECT\n",
    "    code,\n",
    "    name\n",
    "FROM CSVREAD('../../../data/faers-2017/pathology.csv');\n",
    "\n",
    "CREATE TABLE DrugUse (\n",
    "  idPerson INT NOT NULL,\n",
    "  codePathology INT NOT NULL,\n",
    "  codeDrug INT NOT NULL,\n",
    "  FOREIGN KEY(codePathology)\n",
    "    REFERENCES Pathology(code)\n",
    "      ON DELETE NO ACTION\n",
    "      ON UPDATE NO ACTION,\n",
    "  FOREIGN KEY(codeDrug)\n",
    "    REFERENCES Drug(code)\n",
    "      ON DELETE NO ACTION\n",
    "      ON UPDATE NO ACTION,\n",
    ") AS SELECT\n",
    "    idPerson,\n",
    "    codePathology,\n",
    "    codeDrug\n",
    "FROM CSVREAD('../../../data/faers-2017/drug-use.csv');\n",
    "\n",
    "CREATE TABLE SideEffect(\n",
    "  idPerson INT NOT NULL,\n",
    "  codePathology INT NOT NULL,\n",
    "  FOREIGN KEY(codePathology)\n",
    "    REFERENCES Pathology(code)\n",
    "      ON DELETE NO ACTION\n",
    "      ON UPDATE NO ACTION\n",
    ") AS SELECT idPerson, codePathology\n",
    "FROM CSVREAD('../../../data/faers-2017/sideeffect.csv');"
   ]
  },
  {
   "cell_type": "code",
   "execution_count": 7,
   "metadata": {
    "scrolled": true
   },
   "outputs": [
    {
     "data": {
      "application/vnd.jupyter.widget-view+json": {
       "model_id": "041c6e33-d973-4791-aa3f-7a288820bc20",
       "version_major": 2,
       "version_minor": 0
      },
      "method": "display_data"
     },
     "metadata": {},
     "output_type": "display_data"
    },
    {
     "data": {
      "application/vnd.jupyter.widget-view+json": {
       "model_id": "4801301b-0e52-4a98-91ce-501125a08323",
       "version_major": 2,
       "version_minor": 0
      },
      "method": "display_data"
     },
     "metadata": {},
     "output_type": "display_data"
    },
    {
     "data": {
      "application/vnd.jupyter.widget-view+json": {
       "model_id": "e409a00f-b607-48e3-8ea0-ef32122aa641",
       "version_major": 2,
       "version_minor": 0
      },
      "method": "display_data"
     },
     "metadata": {},
     "output_type": "display_data"
    },
    {
     "data": {
      "application/vnd.jupyter.widget-view+json": {
       "model_id": "e11a58ad-03e3-497b-ab43-33c9e03b0636",
       "version_major": 2,
       "version_minor": 0
      },
      "method": "display_data"
     },
     "metadata": {},
     "output_type": "display_data"
    }
   ],
   "source": [
    "SELECT * FROM Drug;\n",
    "SELECT * FROM Pathology;\n",
    "SELECT * FROM DrugUse;\n",
    "SELECT * FROM SideEffect;"
   ]
  },
  {
   "cell_type": "markdown",
   "metadata": {},
   "source": [
    "# FDA Adverse Event Reporting System (FAERS)\n",
    "\n",
    "[FDA Adverse Event Reporting System (FAERS)](https://open.fda.gov/data/faers/).\n",
    "\n",
    "Fonte de dados: https://www.fda.gov/drugs/fda-adverse-event-reporting-system-faers/fda-adverse-event-reporting-system-faers-latest-quarterly-data-files"
   ]
  },
  {
   "cell_type": "markdown",
   "metadata": {},
   "source": [
    "# Interação entre medicamentos\n",
    "Considere como uma interação toda vez que um medicamento A é tomado em conjunto com um medicamento B por uma pessoa. Crie uma consulta que retorne para cada par de medicamento A,B o número de interações, somente para aqueles medicamentos que são tomados em conjunto mais de 30 vezes (passaremos a chamar de **grupo mais 30**)."
   ]
  },
  {
   "cell_type": "code",
   "execution_count": 11,
   "metadata": {},
   "outputs": [
    {
     "data": {
      "application/vnd.jupyter.widget-view+json": {
       "model_id": "f7855c3c-6afd-444f-9ab2-8e872512641d",
       "version_major": 2,
       "version_minor": 0
      },
      "method": "display_data"
     },
     "metadata": {},
     "output_type": "display_data"
    }
   ],
   "source": [
    "DROP VIEW IF EXISTS InteracaoMedicamentos;\n",
    "DROP VIEW IF EXISTS InteracaoMedicamentosMaior30;\n",
    "\n",
    "CREATE VIEW InteracaoMedicamentos AS\n",
    "SELECT USOA.codeDrug druga, USOB.codeDrug drugb\n",
    "FROM DrugUse USOA, DrugUse USOB\n",
    "WHERE USOA.IdPerson = USOB.IdPerson AND USOA.codeDrug <> USOB.codeDrug;\n",
    "\n",
    "\n",
    "\n",
    "CREATE VIEW InteracaoMedicamentosMaior30 AS\n",
    "SELECT druga, drugb, count(*) QuantidadeInteracao\n",
    "FROM InteracaoMedicamentos\n",
    "GROUP BY druga, drugb\n",
    "HAVING QuantidadeInteracao > 30;\n",
    "\n",
    "SELECT * FROM InteracaoMedicamentosMaior30;"
   ]
  },
  {
   "cell_type": "markdown",
   "metadata": {},
   "source": [
    "## Tabela Resultante\n",
    "\n",
    "Se estiver demorando muito para gerar a tabela, você poderá usar a seguinte tabela resultante pronta. Essa tabela tem todas as interações, você ainda precisará filtrar o **grupo mais 30**."
   ]
  },
  {
   "cell_type": "code",
   "execution_count": 13,
   "metadata": {},
   "outputs": [],
   "source": [
    "CREATE TABLE DrugInteraction (\n",
    "  druga INT NOT NULL,\n",
    "  drugb INT NOT NULL,\n",
    "  weight INT NOT NULL,\n",
    "  PRIMARY KEY(druga, drugb)\n",
    ") AS SELECT\n",
    "    druga,\n",
    "    drugb,\n",
    "    weight\n",
    "FROM CSVREAD('../../../data/faers-2017/results/drug-interaction.csv');"
   ]
  },
  {
   "cell_type": "code",
   "execution_count": 14,
   "metadata": {},
   "outputs": [
    {
     "data": {
      "application/vnd.jupyter.widget-view+json": {
       "model_id": "7cb8f328-cd6e-4a35-b9c0-1b19802a0ae8",
       "version_major": 2,
       "version_minor": 0
      },
      "method": "display_data"
     },
     "metadata": {},
     "output_type": "display_data"
    }
   ],
   "source": [
    "CREATE VIEW DrugInteraction30 AS\n",
    "SELECT * FROM DrugInteraction DI\n",
    "WHERE DI.weight > 30;\n",
    "\n",
    "SELECT * FROM DrugInteraction30;"
   ]
  },
  {
   "cell_type": "markdown",
   "metadata": {},
   "source": [
    "# Suporte\n",
    "\n",
    "### Qual o suporte que cada uma das associações tem?\n",
    "\n",
    "Gere uma consulta que apresente o suporte do **grupo mais 30**. Ordene o resultado por ordem de suporte. \n",
    "\n",
    "Observação: Para que o resultado da divisão seja fracionária, converta o numerador em `DOUBLE` usando:\n",
    "~~~sql\n",
    "CAST(campo AS DOUBLE)\n",
    "~~~"
   ]
  },
  {
   "cell_type": "code",
   "execution_count": 21,
   "metadata": {},
   "outputs": [
    {
     "data": {
      "application/vnd.jupyter.widget-view+json": {
       "model_id": "ee276578-8e6b-4539-8596-da7261f9f967",
       "version_major": 2,
       "version_minor": 0
      },
      "method": "display_data"
     },
     "metadata": {},
     "output_type": "display_data"
    }
   ],
   "source": [
    "SELECT druga,drugb,weight,CAST(weight AS DOUBLE) / 9073 Suporte\n",
    "       FROM DrugInteraction30 \n",
    "       ORDER BY Suporte;"
   ]
  },
  {
   "cell_type": "markdown",
   "metadata": {},
   "source": [
    "# Confiança\n",
    "\n",
    "### Qual a confiança que cada uma das associações tem?\n",
    "\n",
    "Gere uma consulta que apresente a confiança do **grupo mais 30**. Ordene o resultado por ordem de confiança."
   ]
  },
  {
   "cell_type": "code",
   "execution_count": 22,
   "metadata": {},
   "outputs": [
    {
     "data": {
      "application/vnd.jupyter.widget-view+json": {
       "model_id": "71869efa-629f-420b-84bd-02405f14714b",
       "version_major": 2,
       "version_minor": 0
      },
      "method": "display_data"
     },
     "metadata": {},
     "output_type": "display_data"
    }
   ],
   "source": [
    "DROP VIEW IF EXISTS Confianca;\n",
    "CREATE VIEW Confianca AS \n",
    "SELECT DI30.druga, DI30.drugb, DI30.weight, CAST(DI30.weight AS DOUBLE)/CAST(DIT.UsoTotalA AS DOUBLE) Confianca\n",
    "FROM DrugInteraction30 DI30, DrugInteractionTotal DIT\n",
    "WHERE DI30.druga = DIT.druga\n",
    "ORDER BY Confianca DESC;\n",
    "\n",
    "SELECT * FROM Confianca;"
   ]
  },
  {
   "cell_type": "markdown",
   "metadata": {},
   "source": [
    "# Efeito Colateral\n",
    "\n",
    "Para cada medicamento, qual o percentual do medicamento A que tem efeito colateral junto com o medicamento B, quando comparado com seu uso sem o medicamento B."
   ]
  },
  {
   "cell_type": "code",
   "execution_count": null,
   "metadata": {},
   "outputs": [],
   "source": [
    "DROP VIEW IF EXISTS EfeitoColateralConj;\n",
    "\n",
    "CREATE VIEW EfeitoColateralConj AS\n",
    "SELECT DU.codeDrug DrugA, DU2.CodeDrug DrugB, COUNT(*) Quantidade\n",
    "FROM DrugUse DU, SideEffect SE, DrugUse DU2\n",
    "WHERE SE.idPerson = DU.idPerson AND S.idPerson = DU2.idPerson AND DU.codeDrug <> DU2.codeDrug\n",
    "GROUP BY DrugA, DrugB;\n",
    "\n",
    "SELECT * FROM EfeitoColateralConj;"
   ]
  },
  {
   "cell_type": "code",
   "execution_count": null,
   "metadata": {},
   "outputs": [],
   "source": [
    "\n",
    "CREATE VIEW EfeitoColateralDiferenca AS\n",
    "SELECT EC1.DrugA, EC1.DrugB, SUM(EC1.Quantidade) diferenca\n",
    "FROM  EfeitoColateralConj EC1,  EfeitoColateralConj EC2\n",
    "WHERE EC1.DrugA = EC2.DrugA and EC1.DrugB <> EC2.DrugB\n",
    "GROUP BY EC1.DrugA, EC1.DrugB;\n",
    "\n",
    "CREATE VIEW EfeitoColateralProporcao AS \n",
    "SELECT EC.drugA, EC.drugB, CAST(EC.many AS DOUBLE)/ECD.diferenca proporcaoColateral\n",
    "FROM  EfeitoColateralConj EC, EfeitoColateralDiferenca  ECD\n",
    "WHERE EC.drugA = ECD.drugA and EC.drugB = ECD.drugB;\n",
    "\n",
    "SELECT * FROM EfeitoColateralProporcao;"
   ]
  }
 ],
 "metadata": {
  "kernelspec": {
   "display_name": "SQL",
   "language": "SQL",
   "name": "sql"
  },
  "language_info": {
   "codemirror_mode": "sql",
   "file_extension": ".sql",
   "mimetype": "",
   "name": "SQL",
   "nbconverter_exporter": "",
   "version": ""
  },
  "toc": {
   "base_numbering": 1,
   "nav_menu": {},
   "number_sections": false,
   "sideBar": false,
   "skip_h1_title": false,
   "title_cell": "Table of Contents",
   "title_sidebar": "Contents",
   "toc_cell": false,
   "toc_position": {},
   "toc_section_display": false,
   "toc_window_display": false
  }
 },
 "nbformat": 4,
 "nbformat_minor": 4
}
