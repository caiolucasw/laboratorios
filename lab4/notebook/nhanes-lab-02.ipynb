{
 "cells": [
  {
   "cell_type": "code",
   "execution_count": 36,
   "metadata": {},
   "outputs": [],
   "source": [
    "%defaultDatasource jdbc:h2:mem:db"
   ]
  },
  {
   "cell_type": "markdown",
   "metadata": {},
   "source": [
    "# Analisando o Uso de Medicamentos\n",
    "* Esta tarefa analisará os dados conforme três abordagens: análise do comportamento estatístico; análise de correlação entre pares; análise de correlação de variáveis.\n",
    "* A partir dos arquivos CSV que estão no diretórios /data/nhanes considere as seguintes tabelas SQL."
   ]
  },
  {
   "cell_type": "code",
   "execution_count": 35,
   "metadata": {},
   "outputs": [
    {
     "ename": "org.h2.jdbc.JdbcSQLException",
     "evalue": " Table \"PESSOA\" already exists; SQL statement",
     "output_type": "error",
     "text": "org.h2.jdbc.JdbcSQLException: Table \"PESSOA\" already exists; SQL statement:\nCREATE TABLE Pessoa (\nId VARCHAR(5) NOT NULL,\nGenero INTEGER,\nIdade INTEGER,\nPRIMARY KEY(Id)\n) AS SELECT\nId,\nGenero,\nIdade\nFROM CSVREAD('../../../data/nhanes/demographic-person.csv') [42101-197]",
     "traceback": [
      "\u001b[1;31morg.h2.jdbc.JdbcSQLException: Table \"PESSOA\" already exists; SQL statement:\u001b[0;0m",
      "\u001b[1;31mCREATE TABLE Pessoa (\u001b[0;0m",
      "\u001b[1;31mId VARCHAR(5) NOT NULL,\u001b[0;0m",
      "\u001b[1;31mGenero INTEGER,\u001b[0;0m",
      "\u001b[1;31mIdade INTEGER,\u001b[0;0m",
      "\u001b[1;31mPRIMARY KEY(Id)\u001b[0;0m",
      "\u001b[1;31m) AS SELECT\u001b[0;0m",
      "\u001b[1;31mId,\u001b[0;0m",
      "\u001b[1;31mGenero,\u001b[0;0m",
      "\u001b[1;31mIdade\u001b[0;0m",
      "\u001b[1;31mFROM CSVREAD('../../../data/nhanes/demographic-person.csv') [42101-197]\u001b[0;0m"
     ]
    }
   ],
   "source": [
    "CREATE TABLE Pessoa (\n",
    "  Id VARCHAR(5) NOT NULL,\n",
    "  Genero INTEGER,\n",
    "  Idade INTEGER,\n",
    "  PRIMARY KEY(Id)\n",
    ") AS SELECT\n",
    "    Id,\n",
    "    Genero,\n",
    "    Idade\n",
    "FROM CSVREAD('../../../data/nhanes/demographic-person.csv');\n",
    "\n",
    "CREATE TABLE Medicamento (\n",
    "  Codigo VARCHAR(6) NOT NULL,\n",
    "  NomeMedicamento VARCHAR(100) NOT NULL,\n",
    "  PRIMARY KEY(Codigo)\n",
    ") AS SELECT\n",
    "    Codigo,\n",
    "    NomeMedicamento\n",
    "FROM CSVREAD('../../../data/nhanes/medications-drug.csv');\n",
    "\n",
    "CREATE TABLE UsoMedicamento (\n",
    "  IdPessoa VARCHAR(5) NOT NULL,\n",
    "  CodMedicamento VARCHAR(6) NOT NULL,\n",
    "  DiasUso INTEGER,\n",
    "  FOREIGN KEY(IdPessoa)\n",
    "    REFERENCES Pessoa(Id)\n",
    "      ON DELETE NO ACTION\n",
    "      ON UPDATE NO ACTION,\n",
    "  FOREIGN KEY(CodMedicamento)\n",
    "    REFERENCES Medicamento(Codigo)\n",
    "      ON DELETE NO ACTION\n",
    "      ON UPDATE NO ACTION\n",
    ") AS SELECT\n",
    "    IdPessoa,\n",
    "    CodMedicamento,\n",
    "    DiasUso\n",
    "FROM CSVREAD('../../../data/nhanes/medications-use.csv');"
   ]
  },
  {
   "cell_type": "code",
   "execution_count": 3,
   "metadata": {},
   "outputs": [
    {
     "data": {
      "application/vnd.jupyter.widget-view+json": {
       "model_id": "b97c6ca0-6aec-439b-8334-e2f85ae5f537",
       "version_major": 2,
       "version_minor": 0
      },
      "method": "display_data"
     },
     "metadata": {},
     "output_type": "display_data"
    },
    {
     "data": {
      "application/vnd.jupyter.widget-view+json": {
       "model_id": "35206ce9-e7f9-406a-9925-8481d239481c",
       "version_major": 2,
       "version_minor": 0
      },
      "method": "display_data"
     },
     "metadata": {},
     "output_type": "display_data"
    },
    {
     "data": {
      "application/vnd.jupyter.widget-view+json": {
       "model_id": "95447f07-b515-4c8b-9f02-130dadd1513b",
       "version_major": 2,
       "version_minor": 0
      },
      "method": "display_data"
     },
     "metadata": {},
     "output_type": "display_data"
    },
    {
     "data": {
      "application/vnd.jupyter.widget-view+json": {
       "model_id": "efacd1ee-a5eb-4e49-9f1b-4beb0f7f9226",
       "version_major": 2,
       "version_minor": 0
      },
      "method": "display_data"
     },
     "metadata": {},
     "output_type": "display_data"
    }
   ],
   "source": [
    "SELECT * FROM Pessoa;\n",
    "SELECT * FROM Medicamento;\n",
    "SELECT * FROM UsoMedicamento;\n",
    "SELECT * FROM UsoMedicamento\n"
   ]
  },
  {
   "cell_type": "markdown",
   "metadata": {},
   "source": [
    "# I. Análise de comportamento estatístico"
   ]
  },
  {
   "cell_type": "markdown",
   "metadata": {},
   "source": [
    "## 1) Contabilizando o uso de medicamentos\n",
    "\n",
    "* Liste o nome de todos os medicamentos e a quantidade de pessoas que usa cada um deles."
   ]
  },
  {
   "cell_type": "code",
   "execution_count": 37,
   "metadata": {},
   "outputs": [
    {
     "data": {
      "application/vnd.jupyter.widget-view+json": {
       "model_id": "a3e74cdd-d790-4add-ac65-113f484c18d1",
       "version_major": 2,
       "version_minor": 0
      },
      "method": "display_data"
     },
     "metadata": {},
     "output_type": "display_data"
    }
   ],
   "source": [
    "SELECT Medicamento.NomeMedicamento, COUNT(*) QuantidadeDeUsuarios,UsoMedicamento.CodMedicamento\n",
    "FROM Medicamento, UsoMedicamento\n",
    "WHERE Medicamento.Codigo = UsoMedicamento.CodMedicamento\n",
    "GROUP BY Medicamento.NomeMedicamento;"
   ]
  },
  {
   "cell_type": "markdown",
   "metadata": {},
   "source": [
    "## 2) Medicamento mais usado com VIEW\n",
    "\n",
    "* Informe o código do medicamento mais usado: fazendo uso de VIEW."
   ]
  },
  {
   "cell_type": "code",
   "execution_count": 38,
   "metadata": {},
   "outputs": [
    {
     "data": {
      "text/plain": [
       "d00732"
      ]
     },
     "execution_count": 38,
     "metadata": {},
     "output_type": "execute_result"
    }
   ],
   "source": [
    "DROP VIEW IF EXISTS MedicamentosUsados;\n",
    "\n",
    "CREATE VIEW MedicamentosUsados AS \n",
    "SELECT Medicamento.NomeMedicamento, UsoMedicamento.CodMedicamento, COUNT(Medicamento.NomeMedicamento) QuantidadeUsuarios\n",
    "FROM Medicamento, UsoMedicamento\n",
    "WHERE Medicamento.Codigo = UsoMedicamento.CodMedicamento\n",
    "GROUP BY  Medicamento.NomeMedicamento;\n",
    "\n",
    "SELECT CodMedicamento  FROM MedicamentosUsados\n",
    "WHERE QuantidadeUsuarios = (SELECT MAX(QuantidadeUsuarios) FROM MedicamentosUsados)\n",
    "GROUP BY CodMedicamento;\n",
    "\n"
   ]
  },
  {
   "cell_type": "markdown",
   "metadata": {},
   "source": [
    "## 3) Medicamento mais usado sem VIEW\n",
    "\n",
    "* Informe o código do medicamento mais usado: sem fazer uso de VIEW."
   ]
  },
  {
   "cell_type": "code",
   "execution_count": 39,
   "metadata": {},
   "outputs": [
    {
     "data": {
      "application/vnd.jupyter.widget-view+json": {
       "model_id": "da41db33-98c5-4173-82ff-9d387b2645d7",
       "version_major": 2,
       "version_minor": 0
      },
      "method": "display_data"
     },
     "metadata": {},
     "output_type": "display_data"
    }
   ],
   "source": [
    "SELECT Medicamento.NomeMedicamento, COUNT(*) QuantidadeUsuarios\n",
    "FROM Medicamento, UsoMedicamento\n",
    "WHERE Medicamento.Codigo = UsoMedicamento.CodMedicamento\n",
    "GROUP BY Medicamento.NomeMedicamento\n",
    "ORDER BY QuantidadeUsuarios DESC\n",
    "LIMIT 1;\n",
    "\n"
   ]
  },
  {
   "cell_type": "markdown",
   "metadata": {},
   "source": [
    "## 4) Nome do medicamento mais usado\n",
    "* Informe o nome do medicamento mais usado (uso de VIEW é opcional)."
   ]
  },
  {
   "cell_type": "code",
   "execution_count": 40,
   "metadata": {},
   "outputs": [
    {
     "data": {
      "application/vnd.jupyter.widget-view+json": {
       "model_id": "1b483419-ce5a-4d18-bbfc-d77ad2321bb0",
       "version_major": 2,
       "version_minor": 0
      },
      "method": "display_data"
     },
     "metadata": {},
     "output_type": "display_data"
    }
   ],
   "source": [
    "SELECT UsoMedicamento.CodMedicamento, COUNT(*) QuantidadeUsuarios\n",
    "FROM Medicamento, UsoMedicamento\n",
    "WHERE Medicamento.Codigo = UsoMedicamento.CodMedicamento\n",
    "GROUP BY UsoMedicamento.CodMedicamento\n",
    "ORDER BY QuantidadeUsuarios DESC\n",
    "LIMIT 1;\n"
   ]
  },
  {
   "cell_type": "markdown",
   "metadata": {},
   "source": [
    "## 5) Contabilizando quanto as pessoas usam de medicamento\n",
    "\n",
    "* Informe o número médio de uso de medicamento por pessoa."
   ]
  },
  {
   "cell_type": "code",
   "execution_count": 41,
   "metadata": {},
   "outputs": [
    {
     "data": {
      "text/plain": [
       "3"
      ]
     },
     "execution_count": 41,
     "metadata": {},
     "output_type": "execute_result"
    }
   ],
   "source": [
    "  \n",
    "SELECT AVG(TotalMedicamentos) Media\n",
    "FROM (SELECT COUNT(*) TotalMedicamentos\n",
    "      FROM UsoMedicamento\n",
    "      GROUP BY IdPessoa);\n"
   ]
  },
  {
   "cell_type": "markdown",
   "metadata": {},
   "source": [
    "## 6) Pessoas que usam mais do que a média\n",
    "\n",
    "* Liste o id das pessoas que usam mais medicamentos do que a média."
   ]
  },
  {
   "cell_type": "code",
   "execution_count": 42,
   "metadata": {},
   "outputs": [
    {
     "data": {
      "application/vnd.jupyter.widget-view+json": {
       "model_id": "2838b19f-c783-4ca2-9e6c-2ce3eecb41a2",
       "version_major": 2,
       "version_minor": 0
      },
      "method": "display_data"
     },
     "metadata": {},
     "output_type": "display_data"
    }
   ],
   "source": [
    "DROP VIEW IF EXISTS UsoPorUsuario;\n",
    "\n",
    "CREATE VIEW UsoPorUsuario AS\n",
    "SELECT IdPessoa, COUNT(*) TotalMedicamentos\n",
    "      FROM UsoMedicamento\n",
    "      GROUP BY IdPessoa;\n",
    "\n",
    "SELECT IdPessoa FROM UsoPorUsuario\n",
    "WHERE TotalMedicamentos > (SELECT AVG(TotalMedicamentos) Media\n",
    "                             FROM (SELECT COUNT(*) TotalMedicamentos\n",
    "                                   FROM UsoMedicamento\n",
    "                                   GROUP BY IdPessoa));"
   ]
  },
  {
   "cell_type": "markdown",
   "metadata": {},
   "source": [
    "## 7) Análise do uso de medicamento\n",
    "\n",
    "* Considere que um médico quer fazer responder a seguinte questão: pessoas tendem a usar mais medicamentos conforme ficam mais velhas?\n",
    "* Escreva uma query que ajude o médico a realizar esta análise."
   ]
  },
  {
   "cell_type": "code",
   "execution_count": 43,
   "metadata": {},
   "outputs": [
    {
     "data": {
      "application/vnd.jupyter.widget-view+json": {
       "model_id": "a8b7191b-11a7-425c-8569-2aaccbc553c8",
       "version_major": 2,
       "version_minor": 0
      },
      "method": "display_data"
     },
     "metadata": {},
     "output_type": "display_data"
    }
   ],
   "source": [
    "DROP VIEW IF EXISTS UsoPorUsuario;\n",
    "\n",
    "CREATE VIEW UsoPorUsuario AS \n",
    "SELECT Pessoa.Id, Pessoa.Idade, COUNT(Pessoa.Id) Uso\n",
    "FROM Pessoa, UsoMedicamento\n",
    "WHERE Pessoa.Id = UsoMedicamento.IdPessoa\n",
    "GROUP BY Pessoa.Id;\n",
    "\n",
    "SELECT Idade, AVG(Uso)  FROM UsoPorUsuario\n",
    "GROUP BY Idade\n",
    "ORDER BY Idade DESC;\n"
   ]
  },
  {
   "cell_type": "markdown",
   "metadata": {},
   "source": [
    "# II. Análise de correlação em pares\n",
    "## Estudo de ação cruzada entre medicamentos\n",
    "\n",
    "* Um pesquisador quer estudar o efeito cruzado de usar dois medicamentos simultaneamente. \n",
    "* Para isso ele precisará da seguinte sequência de queries."
   ]
  },
  {
   "cell_type": "markdown",
   "metadata": {},
   "source": [
    "## 8) Medicamentos tomados em conjunto\n",
    "* Construa uma VIEW com duas colunas: medicamentoA, medicamentoB\n",
    "* Nessa VIEW, é criada uma tupla (medicamentoA, medicamentoB) toda vez que uma pessoa toma o medicamento A e também o medicamento B.\n",
    "* Haverá repetição de tuplas, já que mais de uma pessoa pode tomar o mesmo par de medicamentos.\n",
    "* Cuidado para não duplicar a mesma informação, ou seja, considerando que uma pessoa tomou o medicamentoX e o medicamentoY, cuidado para não criar duas tuplas: (medicamentoX, medicamentoY) e (medicamentoY, medicamentoX)."
   ]
  },
  {
   "cell_type": "code",
   "execution_count": 44,
   "metadata": {},
   "outputs": [
    {
     "data": {
      "application/vnd.jupyter.widget-view+json": {
       "model_id": "53967a24-9075-4f4e-baf1-a0d174d65796",
       "version_major": 2,
       "version_minor": 0
      },
      "method": "display_data"
     },
     "metadata": {},
     "output_type": "display_data"
    }
   ],
   "source": [
    "DROP VIEW IF EXISTS ConjuntoDeMedicamentos;\n",
    "\n",
    "CREATE VIEW ConjuntoDeMedicamentos AS\n",
    "SELECT U1.CodMedicamento medicamentoA, U2.CodMedicamento medicamentoB\n",
    "FROM UsoMedicamento U1, UsoMedicamento U2\n",
    "WHERE U1.CodMedicamento > U2.CodMedicamento AND U1.IdPessoa = U2.IdPessoa;\n",
    "\n",
    "SELECT * FROM ConjuntoDeMedicamentos;"
   ]
  },
  {
   "cell_type": "markdown",
   "metadata": {},
   "source": [
    "## 9) Total de medicamento tomados em conjunto\n",
    "* Apresente o total de pessoas que toma cada par de medicamentos."
   ]
  },
  {
   "cell_type": "code",
   "execution_count": 45,
   "metadata": {},
   "outputs": [
    {
     "data": {
      "application/vnd.jupyter.widget-view+json": {
       "model_id": "3d320034-1039-46ac-a4be-54a89cb936d9",
       "version_major": 2,
       "version_minor": 0
      },
      "method": "display_data"
     },
     "metadata": {},
     "output_type": "display_data"
    }
   ],
   "source": [
    "SELECT medicamentoA, medicamentoB, COUNT(*) QntConjunto FROM ConjuntoDeMedicamentos\n",
    "GROUP BY medicamentoA, medicamentoB;"
   ]
  },
  {
   "cell_type": "markdown",
   "metadata": {},
   "source": [
    "# III. Análise de correlação entre variáveis\n",
    "* Consiste na análise da seguinte questão: como a alteração de uma variável afeta a outra.\n",
    "## Matriz de análise\n",
    "* Considere a matriz abaixo."
   ]
  },
  {
   "cell_type": "code",
   "execution_count": 47,
   "metadata": {},
   "outputs": [
    {
     "data": {
      "application/vnd.jupyter.widget-view+json": {
       "model_id": "995af036-a186-4b1f-a65d-d31790e272f3",
       "version_major": 2,
       "version_minor": 0
      },
      "method": "display_data"
     },
     "metadata": {},
     "output_type": "display_data"
    }
   ],
   "source": [
    "DROP TABLE IF EXISTS Matriz;\n",
    "\n",
    "CREATE TABLE Matriz (\n",
    "  Id VARCHAR(5) NOT NULL,\n",
    "  Genero INTEGER,\n",
    "  Idade INTEGER,\n",
    "  IdadeAte60 BOOLEAN,\n",
    "  MaisUmAnoMedicamento BOOLEAN,\n",
    "  MedicamentosAcimaMedia BOOLEAN,\n",
    "  PRIMARY KEY(Id)\n",
    ") AS SELECT\n",
    "    Id,\n",
    "    Genero,\n",
    "    Idade,\n",
    "    FALSE, FALSE, FALSE\n",
    "FROM CSVREAD('../../../data/nhanes/demographic-person.csv');\n",
    "\n",
    "SELECT * FROM Matriz;"
   ]
  },
  {
   "cell_type": "markdown",
   "metadata": {},
   "source": [
    "## 10) Atualização simples da matriz\n",
    "* Utilize o comando UPDATE para atualizar a coluna IdadeAte60 da tabela colocando verdadeiro para as pessoas que têm até 60 anos de idade."
   ]
  },
  {
   "cell_type": "code",
   "execution_count": 48,
   "metadata": {},
   "outputs": [
    {
     "data": {
      "application/vnd.jupyter.widget-view+json": {
       "model_id": "3ba4e8a2-0b2c-4356-8ef1-4c9bb1b0ccc3",
       "version_major": 2,
       "version_minor": 0
      },
      "method": "display_data"
     },
     "metadata": {},
     "output_type": "display_data"
    },
    {
     "data": {
      "application/vnd.jupyter.widget-view+json": {
       "model_id": "51645ffb-27b4-4871-9091-d3a84aace921",
       "version_major": 2,
       "version_minor": 0
      },
      "method": "display_data"
     },
     "metadata": {},
     "output_type": "display_data"
    }
   ],
   "source": [
    "SELECT * FROM Matriz;\n",
    "\n",
    "UPDATE Matriz\n",
    "SET IdadeAte60 = TRUE\n",
    "WHERE Idade <= 60;\n",
    "\n",
    "SELECT * FROM Matriz;"
   ]
  },
  {
   "cell_type": "markdown",
   "metadata": {},
   "source": [
    "## 11) Atualização vinculada a uma segunda tabela\n",
    "* Utilize o comando UPDATE para atualizar a coluna MaisUmAnoMedicamento, colocando verdadeiro para aquelas pessoas que usam pelo menos um medicamento há mais de um ano."
   ]
  },
  {
   "cell_type": "code",
   "execution_count": 49,
   "metadata": {},
   "outputs": [
    {
     "data": {
      "application/vnd.jupyter.widget-view+json": {
       "model_id": "dc200e5c-11ed-4d92-a036-cf252ebb2073",
       "version_major": 2,
       "version_minor": 0
      },
      "method": "display_data"
     },
     "metadata": {},
     "output_type": "display_data"
    }
   ],
   "source": [
    "\n",
    "UPDATE Matriz\n",
    "SET MedicamentosAcimaMedia = TRUE\n",
    "WHERE 1 <= (SELECT COUNT(IdPessoa) \n",
    "            FROM UsoMedicamento\n",
    "            WHERE Id = IdPessoa AND UsoMedicamento.diasUso > 365 \n",
    "            GROUP BY IdPessoa);\n",
    "            \n",
    "SELECT * FROM Matriz;"
   ]
  },
  {
   "cell_type": "markdown",
   "metadata": {},
   "source": [
    "## 12) Atualização baseada em uma consulta complexa\n",
    "* Utilize o comando UPDATE para atualizar a coluna MedicamentosAcimaMedia, colocando verdadeiro para aquelas pessoas que usam um número de medicamentos acima da média."
   ]
  },
  {
   "cell_type": "code",
   "execution_count": 55,
   "metadata": {},
   "outputs": [
    {
     "data": {
      "application/vnd.jupyter.widget-view+json": {
       "model_id": "9ba7546e-15fc-47e2-a5ad-68356485a120",
       "version_major": 2,
       "version_minor": 0
      },
      "method": "display_data"
     },
     "metadata": {},
     "output_type": "display_data"
    }
   ],
   "source": [
    "UPDATE Matriz\n",
    "SET MedicamentosAcimaMedia = TRUE\n",
    "WHERE ((SELECT COUNT(IdPessoa) \n",
    "       FROM UsoMedicamento\n",
    "       WHERE Matriz.Id = UsoMedicamento.IdPessoa\n",
    "       GROUP BY IdPessoa) > (SELECT AVG(TotalMedicamentos) Media\n",
    "                             FROM (SELECT COUNT(*) TotalMedicamentos\n",
    "                                   FROM UsoMedicamento\n",
    "                                   GROUP BY IdPessoa)));\n",
    "\n",
    "SELECT * FROM Matriz\n"
   ]
  },
  {
   "cell_type": "markdown",
   "metadata": {},
   "source": [
    "## 13) Que análise interessante pode ser feita?\n",
    "* A partir da Matriz criada, proponha uma análise interessante."
   ]
  },
  {
   "cell_type": "markdown",
   "metadata": {},
   "source": [
    "### 13a) Descreva a seguir (em Markdown) qual a análise que você propõe."
   ]
  },
  {
   "cell_type": "markdown",
   "metadata": {},
   "source": [
    "##### Podemos analisar se a maioria das pessoas com mais de 60 anos usam remédios acima da média."
   ]
  },
  {
   "cell_type": "markdown",
   "metadata": {},
   "source": [
    "### 13b) Escreva uma consulta em SQL que fornece informações para a análise proposta."
   ]
  },
  {
   "cell_type": "code",
   "execution_count": 67,
   "metadata": {},
   "outputs": [
    {
     "data": {
      "text/plain": [
       "1464"
      ]
     },
     "execution_count": 67,
     "metadata": {},
     "output_type": "execute_result"
    }
   ],
   "source": [
    "DROP VIEW IF EXISTS Idoso;\n",
    "\n",
    "CREATE VIEW Idoso AS \n",
    "SELECT * FROM Matriz\n",
    "WHERE Idade >= 60;\n",
    "\n",
    "CREATE VIEW TotalIdoso AS \n",
    "SELECT COUNT(*) TotalIdoso FROM Idoso;\n",
    "\n",
    "CREATE VIEW MedAcimaMedia AS \n",
    "SELECT COUNT(MedicamentosAcimaMedia) MedicamentoAcimaMedia FROM Idoso\n",
    "WHERE MedicamentosAcimaMedia = True;\n",
    "\n",
    "SELECT MedicamentoAcimaMedia MA, TotalIdoso\n",
    "\n"
   ]
  },
  {
   "cell_type": "code",
   "execution_count": null,
   "metadata": {},
   "outputs": [],
   "source": []
  }
 ],
 "metadata": {
  "kernelspec": {
   "display_name": "SQL",
   "language": "SQL",
   "name": "sql"
  },
  "language_info": {
   "codemirror_mode": "sql",
   "file_extension": ".sql",
   "mimetype": "",
   "name": "SQL",
   "nbconverter_exporter": "",
   "version": ""
  }
 },
 "nbformat": 4,
 "nbformat_minor": 4
}
